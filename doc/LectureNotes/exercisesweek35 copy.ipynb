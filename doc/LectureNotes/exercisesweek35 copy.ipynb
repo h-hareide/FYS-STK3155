{
 "cells": [
  {
   "cell_type": "markdown",
   "id": "b4005770",
   "metadata": {},
   "source": [
    "# Exercises week 35\n",
    "\n",
    "## Deriving and Implementing Ordinary Least Squares"
   ]
  },
  {
   "cell_type": "markdown",
   "id": "2ca1b589",
   "metadata": {},
   "source": [
    "This week you will be deriving the analytical expressions for linear regression, building up the model from scratch. This will include taking several derivatives of products of vectors and matrices. Such derivatives are central to the optimization of many machine learning models. Although we will often use automatic differentiation in actual calculations, to be able to have analytical expressions is extremely helpful in case we have simpler derivatives as well as when we analyze various properties (like second derivatives) of the chosen cost functions.\n",
    "\n",
    "Vectors are always written as boldfaced lower case letters and matrices as upper case boldfaced letters. You will find useful the notes from week 35 on derivatives of vectors and matrices. See also the textbook of Faisal at al, chapter 5 and in particular sections 5.3-5.5 at <https://github.com/CompPhysics/MachineLearning/blob/master/doc/Textbooks/MathMLbook.pdf>"
   ]
  },
  {
   "cell_type": "markdown",
   "id": "41e92bf9",
   "metadata": {},
   "source": [
    "### Learning goals\n",
    "\n",
    "After completing these exercises, you will know how to\n",
    "- Take the derivatives of simple products between vectors and matrices\n",
    "- Implement OLS using the analytical expressions\n",
    "- Create a feature matrix from a set of data\n",
    "- Create a feature matrix for a polynomial model\n",
    "- Evaluate the MSE score of various model on training and test data, and comparing their performance\n",
    "\n",
    "### Deliverables\n",
    "\n",
    "Complete the following exercises while working in a jupyter notebook. Then, in canvas, include\n",
    "- The jupyter notebook with the exercises completed\n",
    "- An exported PDF of the notebook (https://code.visualstudio.com/docs/datascience/jupyter-notebooks#_export-your-jupyter-notebook)"
   ]
  },
  {
   "cell_type": "markdown",
   "id": "f7a9209d",
   "metadata": {},
   "source": [
    "## How to take derivatives of Matrix-Vector expressions"
   ]
  },
  {
   "cell_type": "markdown",
   "id": "45f3712e",
   "metadata": {},
   "source": [
    "In these exercises it is always useful to write out with summation indices the various quantities. Take also a look at the weekly slides from week 35 and the various examples included there.\n",
    "\n",
    "As an example, consider the function\n",
    "\n",
    "$$\n",
    "f(\\boldsymbol{x}) =\\boldsymbol{A}\\boldsymbol{x},\n",
    "$$\n",
    "\n",
    "which reads for a specific component $f_i$ (we define the matrix $\\boldsymbol{A}$ to have dimension $n\\times n$ and the vector $\\boldsymbol{x}$ to have length $n$)\n",
    "\n",
    "$$\n",
    "f_i =\\sum_{j=0}^{n-1}a_{ij}x_j,\n",
    "$$\n",
    "\n",
    "which leads to\n",
    "\n",
    "$$\n",
    "\\frac{\\partial f_i}{\\partial x_j}= a_{ij},\n",
    "$$\n",
    "\n",
    "and written out in terms of the vector $\\boldsymbol{x}$ we have\n",
    "\n",
    "$$\n",
    "\\frac{\\partial f(\\boldsymbol{x})}{\\partial \\boldsymbol{x}}= \\boldsymbol{A}.\n",
    "$$"
   ]
  },
  {
   "cell_type": "markdown",
   "id": "5fa8a4e6",
   "metadata": {},
   "source": [
    "## Exercise 1 - Finding the derivative of Matrix-Vector expressions"
   ]
  },
  {
   "cell_type": "markdown",
   "id": "df7a2270",
   "metadata": {},
   "source": [
    "**a)** Consider the expression\n",
    "\n",
    "$$\n",
    "\\frac{\\partial (\\boldsymbol{a}^T\\boldsymbol{x})}{\\partial \\boldsymbol{x}},\n",
    "$$\n",
    "\n",
    "Where $\\boldsymbol{a}$ and $\\boldsymbol{x}$ are column-vectors with length $n$.\n",
    "\n",
    "What is the *shape* of the expression we are taking the derivative of?\n",
    "\n",
    "What is the *shape* of the thing we are taking the derivative with respect to?\n",
    "\n",
    "What is the *shape* of the result of the expression?"
   ]
  },
  {
   "cell_type": "markdown",
   "id": "c0396734",
   "metadata": {},
   "source": [
    "**b)** Show that\n",
    "\n",
    "$$\n",
    "\\frac{\\partial (\\boldsymbol{a}^T\\boldsymbol{x})}{\\partial \\boldsymbol{x}} = \\boldsymbol{a}^T,\n",
    "$$"
   ]
  },
  {
   "cell_type": "markdown",
   "id": "dc39d541",
   "metadata": {},
   "source": [
    "**c)** Show that\n",
    "\n",
    "$$\n",
    "\\frac{\\partial (\\boldsymbol{a}^T\\boldsymbol{A}\\boldsymbol{a})}{\\partial \\boldsymbol{a}} = \\boldsymbol{a}^T(\\boldsymbol{A}+\\boldsymbol{A}^T),\n",
    "$$"
   ]
  },
  {
   "cell_type": "markdown",
   "id": "498d13ec",
   "metadata": {},
   "source": [
    "## Exercise 2 - Deriving the expression for OLS"
   ]
  },
  {
   "cell_type": "markdown",
   "id": "f3f771de",
   "metadata": {},
   "source": [
    "The ordinary least squares method finds the parameters $\\boldsymbol{\\theta}$ which minimizes the squared error between our model $\\boldsymbol{X\\theta}$ and the true values $\\boldsymbol{y}$.\n",
    "\n",
    "To find the parameters $\\boldsymbol{\\theta}$ which minimizes this error, we take the derivative of the squared error expression with respect to $\\boldsymbol{\\theta}$, and set it equal to 0."
   ]
  },
  {
   "cell_type": "markdown",
   "id": "49690237",
   "metadata": {},
   "source": [
    "**a)** Very briefly explain why the approach above finds the parameters $\\boldsymbol{\\theta}$ which minimizes this error."
   ]
  },
  {
   "cell_type": "markdown",
   "id": "b7cccc9d",
   "metadata": {},
   "source": [
    "We typically write the squared error as\n",
    "\n",
    "$$\n",
    "\\vert\\vert\\boldsymbol{y} - \\boldsymbol{X\\theta}\\vert\\vert^2\n",
    "$$\n",
    "\n",
    "which we can rewrite in matrix-vector form as\n",
    "\n",
    "$$\n",
    "\\left(\\boldsymbol{y}-\\boldsymbol{X}\\boldsymbol{\\theta}\\right)^T\\left(\\boldsymbol{y}-\\boldsymbol{X}\\boldsymbol{\\theta}\\right)\n",
    "$$"
   ]
  },
  {
   "cell_type": "markdown",
   "id": "8fbecf74",
   "metadata": {},
   "source": [
    "**b)** If $\\boldsymbol{X}$ is invertible, what is the expression for the optimal parameters $\\boldsymbol{\\theta}$? (**Hint:** Don't compute any derivatives, but solve $\\boldsymbol{X\\theta}=\\boldsymbol{y}$ for $\\boldsymbol{\\theta}$)"
   ]
  },
  {
   "cell_type": "markdown",
   "id": "f37af8f0",
   "metadata": {},
   "source": [
    "**c)** Show that\n",
    "\n",
    "$$\n",
    "\\frac{\\partial \\left(\\boldsymbol{x}-\\boldsymbol{A}\\boldsymbol{s}\\right)^T\\left(\\boldsymbol{x}-\\boldsymbol{A}\\boldsymbol{s}\\right)}{\\partial \\boldsymbol{s}} = -2\\left(\\boldsymbol{x}-\\boldsymbol{A}\\boldsymbol{s}\\right)^T\\boldsymbol{A},\n",
    "$$"
   ]
  },
  {
   "cell_type": "markdown",
   "id": "869fca4d",
   "metadata": {},
   "source": [
    "**d)** Using the expression from **c)**, but substituting back in $\\boldsymbol{\\theta}$, $\\boldsymbol{y}$ and $\\boldsymbol{X}$, find the expression for the optimal parameters $\\boldsymbol{\\theta}$ in the case that $\\boldsymbol{X}$ is not invertible, but $\\boldsymbol{X^T X}$ is, which is most often the case.\n",
    "\n",
    "$$\n",
    "\\boldsymbol{\\hat{\\theta}_{OLS}} = ...\n",
    "$$"
   ]
  },
  {
   "cell_type": "markdown",
   "id": "57ca3d74",
   "metadata": {},
   "source": [
    "## Exercise 3 - Creating feature matrix and implementing OLS using the analytical expression"
   ]
  },
  {
   "cell_type": "markdown",
   "id": "5dc179f7",
   "metadata": {},
   "source": [
    "With the expression for $\\boldsymbol{\\hat{\\theta}_{OLS}}$, you now have what you need to implement OLS regression with your input data and target data $\\boldsymbol{y}$. But before you can do that, you need to set up you input data as a feature matrix $\\boldsymbol{X}$.\n",
    "\n",
    "In a feature matrix, each row is a datapoint and each column is a feature of that data. If you want to predict someones spending based on their income and number of children, for instance, you would create a row for each person in your dataset, with the montly income and the number of children as columns.\n",
    "\n",
    "We typically also include an intercept in our models. The intercept is a value that is added to our prediction regardless of the value of the other features. The intercept tries to account for constant effects in our data that are not dependant on anything else. In our current example, the intercept could account for living expenses which are typical regardless of income or childcare expenses.\n",
    "\n",
    "We calculate the optimal intercept by including a feature with the constant value of 1 in our model, which is then multplied by some parameter $\\theta_0$ from the OLS method into the optimal intercept value (which will be $\\theta_0$). In practice, we include the intercept in our model by adding a column of ones to the start of our feature matrix."
   ]
  },
  {
   "cell_type": "code",
   "execution_count": 1,
   "id": "e5ff2a69",
   "metadata": {},
   "outputs": [],
   "source": [
    "import numpy as np"
   ]
  },
  {
   "cell_type": "code",
   "execution_count": 2,
   "id": "a3cf2792",
   "metadata": {},
   "outputs": [],
   "source": [
    "n = 20\n",
    "income = np.array([116., 161., 167., 118., 172., 163., 179., 173., 162., 116., 101., 176., 178., 172., 143., 135., 160., 101., 149., 125.])\n",
    "children = np.array([5, 3, 0, 4, 5, 3, 0, 4, 4, 3, 3, 5, 1, 0, 2, 3, 2, 1, 5, 4])\n",
    "spending = np.array([152., 141., 102., 136., 161., 129.,  99., 159., 160., 107.,  98., 164., 121.,  93., 112., 127., 117.,  69., 156., 131.])\n"
   ]
  },
  {
   "cell_type": "markdown",
   "id": "5da61481",
   "metadata": {},
   "source": [
    "**a)** Create a feature matrix $\\boldsymbol{X}$ for the features income and children, including an intercept column of ones at the start."
   ]
  },
  {
   "cell_type": "code",
   "execution_count": 3,
   "id": "5ad87a65",
   "metadata": {},
   "outputs": [],
   "source": [
    "X = np.zeros((n, 3))\n",
    "X[:, 0] = 1\n",
    "X[:, 1] = income\n",
    "X[:, 2] = children"
   ]
  },
  {
   "cell_type": "markdown",
   "id": "e0ddfac2",
   "metadata": {},
   "source": [
    "**b)** Use the expression from **3d)** to find the optimal parameters $\\boldsymbol{\\hat{\\beta}_{OLS}}$ for predicting spending based on these features. Create a function for this operation, as you are going to need to use it a lot."
   ]
  },
  {
   "cell_type": "code",
   "execution_count": 4,
   "id": "8f3f68aa",
   "metadata": {},
   "outputs": [],
   "source": [
    "def OLS_parameters(X, y):\n",
    "    return np.linalg.inv(np.transpose(X) @ X) @ np.transpose(X) @ y\n",
    "\n",
    "#beta = OLS_parameters(X, y)"
   ]
  },
  {
   "cell_type": "markdown",
   "id": "0cb6da80",
   "metadata": {},
   "source": [
    "## Exercise 4 - Fitting a polynomial"
   ]
  },
  {
   "cell_type": "markdown",
   "id": "71015064",
   "metadata": {},
   "source": [
    "In this course, we typically do linear regression using polynomials, though in real world applications it is also very common to make linear models based on measured features like you did in the previous exercise.\n",
    "\n",
    "When fitting a polynomial with linear regression, we make each polynomial degree($x, x^2, x^3, ..., x^p$) its own feature."
   ]
  },
  {
   "cell_type": "code",
   "execution_count": 5,
   "id": "d7476c84",
   "metadata": {},
   "outputs": [],
   "source": [
    "n = 100\n",
    "x = np.linspace(-3, 3, n)\n",
    "y = np.exp(-x**2) + 1.5 * np.exp(-(x-2)**2) + np.random.normal(0, 0.1)"
   ]
  },
  {
   "cell_type": "markdown",
   "id": "8321451b",
   "metadata": {},
   "source": [
    "**a)** Create a feature matrix $\\boldsymbol{X}$ for the features $x, x^2, x^3, x^4, x^5$, including an intercept column of ones at the start. Make this into a function, as you will do this a lot over the next weeks."
   ]
  },
  {
   "cell_type": "code",
   "execution_count": 6,
   "id": "91496e40",
   "metadata": {},
   "outputs": [],
   "source": [
    "def polynomial_features(x, p):\n",
    "    n = len(x)\n",
    "    X = np.zeros((n, p + 1))\n",
    "    for i in range(p+1):\n",
    "        X[:, i] = x**i\n",
    "    return X\n",
    "\n",
    "    #X[:, 0] = ...\n",
    "    #X[:, 1] = ...\n",
    "    #X[:, 2] = ...\n",
    "    # could this be a loop?\n",
    "\n",
    "X = polynomial_features(x, 5)"
   ]
  },
  {
   "cell_type": "markdown",
   "id": "b84b1e31",
   "metadata": {},
   "source": [
    "**b)** Use the expression from **3d)** to find the optimal parameters $\\boldsymbol{\\hat{\\beta}_{OLS}}$ for predicting $\\boldsymbol{y}$ based on these features. If you have done everything right so far, this code will not need changing."
   ]
  },
  {
   "cell_type": "code",
   "execution_count": 7,
   "id": "034f502c",
   "metadata": {},
   "outputs": [
    {
     "data": {
      "text/plain": [
       "array([ 0.76472384,  0.27464654, -0.02326439,  0.05342623, -0.0034652 ,\n",
       "       -0.0087781 ])"
      ]
     },
     "execution_count": 7,
     "metadata": {},
     "output_type": "execute_result"
    }
   ],
   "source": [
    "\n",
    "beta = OLS_parameters(X, y)\n",
    "beta"
   ]
  },
  {
   "cell_type": "markdown",
   "id": "d703f788",
   "metadata": {},
   "source": [
    "**c)** Like in exercise 4 last week, split your feature matrix and target data into a training split and test split."
   ]
  },
  {
   "cell_type": "code",
   "execution_count": 8,
   "id": "29171358",
   "metadata": {},
   "outputs": [],
   "source": [
    "from sklearn.model_selection import train_test_split\n",
    "\n",
    "X_train, X_test, y_train, y_test = train_test_split(X, y, test_size=0.2)"
   ]
  },
  {
   "cell_type": "markdown",
   "id": "a0e3509f",
   "metadata": {},
   "source": [
    "**d)** Train your model on the training data(find the parameters which best fit) and compute the MSE on both the training and test data."
   ]
  },
  {
   "cell_type": "code",
   "execution_count": 9,
   "id": "1e346f4c",
   "metadata": {},
   "outputs": [
    {
     "name": "stdout",
     "output_type": "stream",
     "text": [
      "MSE train: 0.014357912449820232\n",
      "MSE test: 0.01264166398604962\n"
     ]
    }
   ],
   "source": [
    "theta = OLS_parameters(X_train, y_train)\n",
    "def MSE(a, b):\n",
    "    return ((a - b).T @ (a - b)) / len(a)\n",
    "MSE_train = MSE(y_train, X_train @ theta)\n",
    "MSE_test = MSE(y_test, X_test @ theta)\n",
    "\n",
    "print(f'MSE train: {MSE_train}')\n",
    "print(f'MSE test: {MSE_test}')\n"
   ]
  },
  {
   "cell_type": "markdown",
   "id": "7e431889",
   "metadata": {},
   "source": [
    "**e)** Do the same for each polynomial degree from 2 to 10, and plot the MSE on both the training and test data as a function of polynomial degree. The aim is to reproduce Figure 2.11 of [Hastie et al](https://github.com/CompPhysics/MLErasmus/blob/master/doc/Textbooks/elementsstat.pdf). Feel free to read the discussions leading to figure 2.11 of Hastie et al. "
   ]
  },
  {
   "cell_type": "code",
   "execution_count": 10,
   "id": "ceb57457",
   "metadata": {},
   "outputs": [
    {
     "data": {
      "image/png": "[encoded data removed]",
      "text/plain": [
       "<Figure size 640x480 with 1 Axes>"
      ]
     },
     "metadata": {},
     "output_type": "display_data"
    }
   ],
   "source": [
    "x_train, x_test, y_train, y_test = train_test_split(x, y, test_size=0.2)\n",
    "degrees = range(2, 11)\n",
    "MSEs_test = []\n",
    "MSEs_train = []\n",
    "\n",
    "for degree in range(2, 11):\n",
    "    X_test = polynomial_features(x_test, degree)\n",
    "    X_train = polynomial_features(x_train, degree)\n",
    "    theta = OLS_parameters(X_train, y_train)\n",
    "\n",
    "    MSE_train = MSE(y_train, X_train @ theta)\n",
    "    MSE_test = MSE(y_test, X_test @ theta)\n",
    "\n",
    "    MSEs_train.append(MSE_train)\n",
    "    MSEs_test.append(MSE_test)\n",
    "\n",
    "import matplotlib.pyplot as plt\n",
    "\n",
    "plt.plot(degrees, MSEs_test)\n",
    "plt.plot(degrees, MSEs_train)\n",
    "plt.draw()\n",
    "\n",
    "\n"
   ]
  },
  {
   "cell_type": "markdown",
   "id": "5e5b5954",
   "metadata": {},
   "source": [
    "**f)** Interpret the graph. Why do the lines move as they do? What does it tell us about model performance and generalizability?"
   ]
  },
  {
   "cell_type": "markdown",
   "id": "ad2acfb9",
   "metadata": {},
   "source": [
    "The lines move downwards as in general a higher degree polynomial will fit an exponential function better. However because our dataset is small, in some cases (depending on the split) lower degree polynomials will have lower MSE by coincidence. The model performs better with higher degrees."
   ]
  },
  {
   "cell_type": "markdown",
   "id": "5994f0c5",
   "metadata": {},
   "source": [
    "## Exercise 5 - Comparing your code with sklearn"
   ]
  },
  {
   "cell_type": "markdown",
   "id": "8f595b7a",
   "metadata": {},
   "source": [
    "When implementing different algorithms for the first time, it can be helpful to double check your results with established implementations before you go on to add more complexity."
   ]
  },
  {
   "cell_type": "markdown",
   "id": "8ab310c1",
   "metadata": {},
   "source": [
    "**a)** Make sure your `polynomial_features` function creates the same feature matrix as sklearns PolynomialFeatures.\n",
    "\n",
    "(https://scikit-learn.org/stable/modules/generated/sklearn.preprocessing.PolynomialFeatures.html)"
   ]
  },
  {
   "cell_type": "code",
   "execution_count": 11,
   "id": "85b964d1",
   "metadata": {},
   "outputs": [
    {
     "name": "stdout",
     "output_type": "stream",
     "text": [
      "[[ 1.00000000e+00 -3.00000000e+00  9.00000000e+00]\n",
      " [ 1.00000000e+00 -2.93939394e+00  8.64003673e+00]\n",
      " [ 1.00000000e+00 -2.87878788e+00  8.28741965e+00]\n",
      " [ 1.00000000e+00 -2.81818182e+00  7.94214876e+00]\n",
      " [ 1.00000000e+00 -2.75757576e+00  7.60422406e+00]\n",
      " [ 1.00000000e+00 -2.69696970e+00  7.27364555e+00]\n",
      " [ 1.00000000e+00 -2.63636364e+00  6.95041322e+00]\n",
      " [ 1.00000000e+00 -2.57575758e+00  6.63452709e+00]\n",
      " [ 1.00000000e+00 -2.51515152e+00  6.32598714e+00]\n",
      " [ 1.00000000e+00 -2.45454545e+00  6.02479339e+00]\n",
      " [ 1.00000000e+00 -2.39393939e+00  5.73094582e+00]\n",
      " [ 1.00000000e+00 -2.33333333e+00  5.44444444e+00]\n",
      " [ 1.00000000e+00 -2.27272727e+00  5.16528926e+00]\n",
      " [ 1.00000000e+00 -2.21212121e+00  4.89348026e+00]\n",
      " [ 1.00000000e+00 -2.15151515e+00  4.62901745e+00]\n",
      " [ 1.00000000e+00 -2.09090909e+00  4.37190083e+00]\n",
      " [ 1.00000000e+00 -2.03030303e+00  4.12213039e+00]\n",
      " [ 1.00000000e+00 -1.96969697e+00  3.87970615e+00]\n",
      " [ 1.00000000e+00 -1.90909091e+00  3.64462810e+00]\n",
      " [ 1.00000000e+00 -1.84848485e+00  3.41689624e+00]\n",
      " [ 1.00000000e+00 -1.78787879e+00  3.19651056e+00]\n",
      " [ 1.00000000e+00 -1.72727273e+00  2.98347107e+00]\n",
      " [ 1.00000000e+00 -1.66666667e+00  2.77777778e+00]\n",
      " [ 1.00000000e+00 -1.60606061e+00  2.57943067e+00]\n",
      " [ 1.00000000e+00 -1.54545455e+00  2.38842975e+00]\n",
      " [ 1.00000000e+00 -1.48484848e+00  2.20477502e+00]\n",
      " [ 1.00000000e+00 -1.42424242e+00  2.02846648e+00]\n",
      " [ 1.00000000e+00 -1.36363636e+00  1.85950413e+00]\n",
      " [ 1.00000000e+00 -1.30303030e+00  1.69788797e+00]\n",
      " [ 1.00000000e+00 -1.24242424e+00  1.54361800e+00]\n",
      " [ 1.00000000e+00 -1.18181818e+00  1.39669421e+00]\n",
      " [ 1.00000000e+00 -1.12121212e+00  1.25711662e+00]\n",
      " [ 1.00000000e+00 -1.06060606e+00  1.12488522e+00]\n",
      " [ 1.00000000e+00 -1.00000000e+00  1.00000000e+00]\n",
      " [ 1.00000000e+00 -9.39393939e-01  8.82460973e-01]\n",
      " [ 1.00000000e+00 -8.78787879e-01  7.72268136e-01]\n",
      " [ 1.00000000e+00 -8.18181818e-01  6.69421488e-01]\n",
      " [ 1.00000000e+00 -7.57575758e-01  5.73921028e-01]\n",
      " [ 1.00000000e+00 -6.96969697e-01  4.85766758e-01]\n",
      " [ 1.00000000e+00 -6.36363636e-01  4.04958678e-01]\n",
      " [ 1.00000000e+00 -5.75757576e-01  3.31496786e-01]\n",
      " [ 1.00000000e+00 -5.15151515e-01  2.65381084e-01]\n",
      " [ 1.00000000e+00 -4.54545455e-01  2.06611570e-01]\n",
      " [ 1.00000000e+00 -3.93939394e-01  1.55188246e-01]\n",
      " [ 1.00000000e+00 -3.33333333e-01  1.11111111e-01]\n",
      " [ 1.00000000e+00 -2.72727273e-01  7.43801653e-02]\n",
      " [ 1.00000000e+00 -2.12121212e-01  4.49954086e-02]\n",
      " [ 1.00000000e+00 -1.51515152e-01  2.29568411e-02]\n",
      " [ 1.00000000e+00 -9.09090909e-02  8.26446281e-03]\n",
      " [ 1.00000000e+00 -3.03030303e-02  9.18273646e-04]\n",
      " [ 1.00000000e+00  3.03030303e-02  9.18273646e-04]\n",
      " [ 1.00000000e+00  9.09090909e-02  8.26446281e-03]\n",
      " [ 1.00000000e+00  1.51515152e-01  2.29568411e-02]\n",
      " [ 1.00000000e+00  2.12121212e-01  4.49954086e-02]\n",
      " [ 1.00000000e+00  2.72727273e-01  7.43801653e-02]\n",
      " [ 1.00000000e+00  3.33333333e-01  1.11111111e-01]\n",
      " [ 1.00000000e+00  3.93939394e-01  1.55188246e-01]\n",
      " [ 1.00000000e+00  4.54545455e-01  2.06611570e-01]\n",
      " [ 1.00000000e+00  5.15151515e-01  2.65381084e-01]\n",
      " [ 1.00000000e+00  5.75757576e-01  3.31496786e-01]\n",
      " [ 1.00000000e+00  6.36363636e-01  4.04958678e-01]\n",
      " [ 1.00000000e+00  6.96969697e-01  4.85766758e-01]\n",
      " [ 1.00000000e+00  7.57575758e-01  5.73921028e-01]\n",
      " [ 1.00000000e+00  8.18181818e-01  6.69421488e-01]\n",
      " [ 1.00000000e+00  8.78787879e-01  7.72268136e-01]\n",
      " [ 1.00000000e+00  9.39393939e-01  8.82460973e-01]\n",
      " [ 1.00000000e+00  1.00000000e+00  1.00000000e+00]\n",
      " [ 1.00000000e+00  1.06060606e+00  1.12488522e+00]\n",
      " [ 1.00000000e+00  1.12121212e+00  1.25711662e+00]\n",
      " [ 1.00000000e+00  1.18181818e+00  1.39669421e+00]\n",
      " [ 1.00000000e+00  1.24242424e+00  1.54361800e+00]\n",
      " [ 1.00000000e+00  1.30303030e+00  1.69788797e+00]\n",
      " [ 1.00000000e+00  1.36363636e+00  1.85950413e+00]\n",
      " [ 1.00000000e+00  1.42424242e+00  2.02846648e+00]\n",
      " [ 1.00000000e+00  1.48484848e+00  2.20477502e+00]\n",
      " [ 1.00000000e+00  1.54545455e+00  2.38842975e+00]\n",
      " [ 1.00000000e+00  1.60606061e+00  2.57943067e+00]\n",
      " [ 1.00000000e+00  1.66666667e+00  2.77777778e+00]\n",
      " [ 1.00000000e+00  1.72727273e+00  2.98347107e+00]\n",
      " [ 1.00000000e+00  1.78787879e+00  3.19651056e+00]\n",
      " [ 1.00000000e+00  1.84848485e+00  3.41689624e+00]\n",
      " [ 1.00000000e+00  1.90909091e+00  3.64462810e+00]\n",
      " [ 1.00000000e+00  1.96969697e+00  3.87970615e+00]\n",
      " [ 1.00000000e+00  2.03030303e+00  4.12213039e+00]\n",
      " [ 1.00000000e+00  2.09090909e+00  4.37190083e+00]\n",
      " [ 1.00000000e+00  2.15151515e+00  4.62901745e+00]\n",
      " [ 1.00000000e+00  2.21212121e+00  4.89348026e+00]\n",
      " [ 1.00000000e+00  2.27272727e+00  5.16528926e+00]\n",
      " [ 1.00000000e+00  2.33333333e+00  5.44444444e+00]\n",
      " [ 1.00000000e+00  2.39393939e+00  5.73094582e+00]\n",
      " [ 1.00000000e+00  2.45454545e+00  6.02479339e+00]\n",
      " [ 1.00000000e+00  2.51515152e+00  6.32598714e+00]\n",
      " [ 1.00000000e+00  2.57575758e+00  6.63452709e+00]\n",
      " [ 1.00000000e+00  2.63636364e+00  6.95041322e+00]\n",
      " [ 1.00000000e+00  2.69696970e+00  7.27364555e+00]\n",
      " [ 1.00000000e+00  2.75757576e+00  7.60422406e+00]\n",
      " [ 1.00000000e+00  2.81818182e+00  7.94214876e+00]\n",
      " [ 1.00000000e+00  2.87878788e+00  8.28741965e+00]\n",
      " [ 1.00000000e+00  2.93939394e+00  8.64003673e+00]\n",
      " [ 1.00000000e+00  3.00000000e+00  9.00000000e+00]]\n",
      "----\n",
      "[[ 1.00000000e+00 -3.00000000e+00  9.00000000e+00]\n",
      " [ 1.00000000e+00 -2.93939394e+00  8.64003673e+00]\n",
      " [ 1.00000000e+00 -2.87878788e+00  8.28741965e+00]\n",
      " [ 1.00000000e+00 -2.81818182e+00  7.94214876e+00]\n",
      " [ 1.00000000e+00 -2.75757576e+00  7.60422406e+00]\n",
      " [ 1.00000000e+00 -2.69696970e+00  7.27364555e+00]\n",
      " [ 1.00000000e+00 -2.63636364e+00  6.95041322e+00]\n",
      " [ 1.00000000e+00 -2.57575758e+00  6.63452709e+00]\n",
      " [ 1.00000000e+00 -2.51515152e+00  6.32598714e+00]\n",
      " [ 1.00000000e+00 -2.45454545e+00  6.02479339e+00]\n",
      " [ 1.00000000e+00 -2.39393939e+00  5.73094582e+00]\n",
      " [ 1.00000000e+00 -2.33333333e+00  5.44444444e+00]\n",
      " [ 1.00000000e+00 -2.27272727e+00  5.16528926e+00]\n",
      " [ 1.00000000e+00 -2.21212121e+00  4.89348026e+00]\n",
      " [ 1.00000000e+00 -2.15151515e+00  4.62901745e+00]\n",
      " [ 1.00000000e+00 -2.09090909e+00  4.37190083e+00]\n",
      " [ 1.00000000e+00 -2.03030303e+00  4.12213039e+00]\n",
      " [ 1.00000000e+00 -1.96969697e+00  3.87970615e+00]\n",
      " [ 1.00000000e+00 -1.90909091e+00  3.64462810e+00]\n",
      " [ 1.00000000e+00 -1.84848485e+00  3.41689624e+00]\n",
      " [ 1.00000000e+00 -1.78787879e+00  3.19651056e+00]\n",
      " [ 1.00000000e+00 -1.72727273e+00  2.98347107e+00]\n",
      " [ 1.00000000e+00 -1.66666667e+00  2.77777778e+00]\n",
      " [ 1.00000000e+00 -1.60606061e+00  2.57943067e+00]\n",
      " [ 1.00000000e+00 -1.54545455e+00  2.38842975e+00]\n",
      " [ 1.00000000e+00 -1.48484848e+00  2.20477502e+00]\n",
      " [ 1.00000000e+00 -1.42424242e+00  2.02846648e+00]\n",
      " [ 1.00000000e+00 -1.36363636e+00  1.85950413e+00]\n",
      " [ 1.00000000e+00 -1.30303030e+00  1.69788797e+00]\n",
      " [ 1.00000000e+00 -1.24242424e+00  1.54361800e+00]\n",
      " [ 1.00000000e+00 -1.18181818e+00  1.39669421e+00]\n",
      " [ 1.00000000e+00 -1.12121212e+00  1.25711662e+00]\n",
      " [ 1.00000000e+00 -1.06060606e+00  1.12488522e+00]\n",
      " [ 1.00000000e+00 -1.00000000e+00  1.00000000e+00]\n",
      " [ 1.00000000e+00 -9.39393939e-01  8.82460973e-01]\n",
      " [ 1.00000000e+00 -8.78787879e-01  7.72268136e-01]\n",
      " [ 1.00000000e+00 -8.18181818e-01  6.69421488e-01]\n",
      " [ 1.00000000e+00 -7.57575758e-01  5.73921028e-01]\n",
      " [ 1.00000000e+00 -6.96969697e-01  4.85766758e-01]\n",
      " [ 1.00000000e+00 -6.36363636e-01  4.04958678e-01]\n",
      " [ 1.00000000e+00 -5.75757576e-01  3.31496786e-01]\n",
      " [ 1.00000000e+00 -5.15151515e-01  2.65381084e-01]\n",
      " [ 1.00000000e+00 -4.54545455e-01  2.06611570e-01]\n",
      " [ 1.00000000e+00 -3.93939394e-01  1.55188246e-01]\n",
      " [ 1.00000000e+00 -3.33333333e-01  1.11111111e-01]\n",
      " [ 1.00000000e+00 -2.72727273e-01  7.43801653e-02]\n",
      " [ 1.00000000e+00 -2.12121212e-01  4.49954086e-02]\n",
      " [ 1.00000000e+00 -1.51515152e-01  2.29568411e-02]\n",
      " [ 1.00000000e+00 -9.09090909e-02  8.26446281e-03]\n",
      " [ 1.00000000e+00 -3.03030303e-02  9.18273646e-04]\n",
      " [ 1.00000000e+00  3.03030303e-02  9.18273646e-04]\n",
      " [ 1.00000000e+00  9.09090909e-02  8.26446281e-03]\n",
      " [ 1.00000000e+00  1.51515152e-01  2.29568411e-02]\n",
      " [ 1.00000000e+00  2.12121212e-01  4.49954086e-02]\n",
      " [ 1.00000000e+00  2.72727273e-01  7.43801653e-02]\n",
      " [ 1.00000000e+00  3.33333333e-01  1.11111111e-01]\n",
      " [ 1.00000000e+00  3.93939394e-01  1.55188246e-01]\n",
      " [ 1.00000000e+00  4.54545455e-01  2.06611570e-01]\n",
      " [ 1.00000000e+00  5.15151515e-01  2.65381084e-01]\n",
      " [ 1.00000000e+00  5.75757576e-01  3.31496786e-01]\n",
      " [ 1.00000000e+00  6.36363636e-01  4.04958678e-01]\n",
      " [ 1.00000000e+00  6.96969697e-01  4.85766758e-01]\n",
      " [ 1.00000000e+00  7.57575758e-01  5.73921028e-01]\n",
      " [ 1.00000000e+00  8.18181818e-01  6.69421488e-01]\n",
      " [ 1.00000000e+00  8.78787879e-01  7.72268136e-01]\n",
      " [ 1.00000000e+00  9.39393939e-01  8.82460973e-01]\n",
      " [ 1.00000000e+00  1.00000000e+00  1.00000000e+00]\n",
      " [ 1.00000000e+00  1.06060606e+00  1.12488522e+00]\n",
      " [ 1.00000000e+00  1.12121212e+00  1.25711662e+00]\n",
      " [ 1.00000000e+00  1.18181818e+00  1.39669421e+00]\n",
      " [ 1.00000000e+00  1.24242424e+00  1.54361800e+00]\n",
      " [ 1.00000000e+00  1.30303030e+00  1.69788797e+00]\n",
      " [ 1.00000000e+00  1.36363636e+00  1.85950413e+00]\n",
      " [ 1.00000000e+00  1.42424242e+00  2.02846648e+00]\n",
      " [ 1.00000000e+00  1.48484848e+00  2.20477502e+00]\n",
      " [ 1.00000000e+00  1.54545455e+00  2.38842975e+00]\n",
      " [ 1.00000000e+00  1.60606061e+00  2.57943067e+00]\n",
      " [ 1.00000000e+00  1.66666667e+00  2.77777778e+00]\n",
      " [ 1.00000000e+00  1.72727273e+00  2.98347107e+00]\n",
      " [ 1.00000000e+00  1.78787879e+00  3.19651056e+00]\n",
      " [ 1.00000000e+00  1.84848485e+00  3.41689624e+00]\n",
      " [ 1.00000000e+00  1.90909091e+00  3.64462810e+00]\n",
      " [ 1.00000000e+00  1.96969697e+00  3.87970615e+00]\n",
      " [ 1.00000000e+00  2.03030303e+00  4.12213039e+00]\n",
      " [ 1.00000000e+00  2.09090909e+00  4.37190083e+00]\n",
      " [ 1.00000000e+00  2.15151515e+00  4.62901745e+00]\n",
      " [ 1.00000000e+00  2.21212121e+00  4.89348026e+00]\n",
      " [ 1.00000000e+00  2.27272727e+00  5.16528926e+00]\n",
      " [ 1.00000000e+00  2.33333333e+00  5.44444444e+00]\n",
      " [ 1.00000000e+00  2.39393939e+00  5.73094582e+00]\n",
      " [ 1.00000000e+00  2.45454545e+00  6.02479339e+00]\n",
      " [ 1.00000000e+00  2.51515152e+00  6.32598714e+00]\n",
      " [ 1.00000000e+00  2.57575758e+00  6.63452709e+00]\n",
      " [ 1.00000000e+00  2.63636364e+00  6.95041322e+00]\n",
      " [ 1.00000000e+00  2.69696970e+00  7.27364555e+00]\n",
      " [ 1.00000000e+00  2.75757576e+00  7.60422406e+00]\n",
      " [ 1.00000000e+00  2.81818182e+00  7.94214876e+00]\n",
      " [ 1.00000000e+00  2.87878788e+00  8.28741965e+00]\n",
      " [ 1.00000000e+00  2.93939394e+00  8.64003673e+00]\n",
      " [ 1.00000000e+00  3.00000000e+00  9.00000000e+00]]\n"
     ]
    }
   ],
   "source": [
    "X = polynomial_features(x, 2)\n",
    "#X_sk = x.copy()\n",
    "from sklearn.preprocessing import PolynomialFeatures\n",
    "poly = PolynomialFeatures(degree = 2)\n",
    "X_sk = poly.fit_transform(x.reshape(n,1))\n",
    "print(X)\n",
    "print('----')\n",
    "print(X_sk)"
   ]
  },
  {
   "cell_type": "markdown",
   "id": "73c32c52",
   "metadata": {},
   "source": [
    "**b)** Make sure your `OLS_parameters` function computes the same parameters as sklearns LinearRegression with fit_intercept set to False, since the intercept is included in the feature matrix. Use `your_model_object.coef_` to extract the computed parameters.\n",
    "\n",
    "(https://scikit-learn.org/stable/modules/generated/sklearn.linear_model.LinearRegression.html)"
   ]
  },
  {
   "cell_type": "code",
   "execution_count": 12,
   "id": "35b04126",
   "metadata": {},
   "outputs": [
    {
     "name": "stdout",
     "output_type": "stream",
     "text": [
      "[ 0.78974404  0.2519021  -0.05052684]\n",
      "[ 0.78974404  0.2519021  -0.05052684]\n"
     ]
    }
   ],
   "source": [
    "theta = OLS_parameters(X, y)\n",
    "from sklearn.linear_model import LinearRegression\n",
    "sk_model = LinearRegression(fit_intercept=False).fit(X_sk, y)\n",
    "theta_sk = sk_model.coef_\n",
    "\n",
    "print(theta)\n",
    "print(theta_sk)"
   ]
  }
 ],
 "metadata": {
  "kernelspec": {
   "display_name": ".venv (3.13.7)",
   "language": "python",
   "name": "python3"
  },
  "language_info": {
   "codemirror_mode": {
    "name": "ipython",
    "version": 3
   },
   "file_extension": ".py",
   "mimetype": "text/x-python",
   "name": "python",
   "nbconvert_exporter": "python",
   "pygments_lexer": "ipython3",
   "version": "3.13.7"
  }
 },
 "nbformat": 4,
 "nbformat_minor": 5
}
